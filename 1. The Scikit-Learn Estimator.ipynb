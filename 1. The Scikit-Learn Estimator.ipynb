{
 "cells": [
  {
   "cell_type": "markdown",
   "metadata": {},
   "source": [
    "# Integrating Pandas with Scikit-Learn, an Exciting New Workflow\n",
    "\n",
    "## About Me - Ted Petrou\n",
    "\n",
    "* Author of Pandas Cookbook\n",
    "* Author of [Master Data Analysis with Python][2]\n",
    "* Founder of Dunder Data - Expert Data Science Instruction\n",
    "* Specialize in finding best practices to use the python data science ecosystem\n",
    "* Follow me on Twitter [@TedPetrou][3]\n",
    "\n",
    "## Make sure you have scikit-learn 0.20 installed\n",
    "\n",
    "## Major Objective\n",
    "The major objective of this tutorial is to teach the latest and most robust workflows for those that use pandas for data exploration and scikit-learn for machine learning. The primary focus will be on the new features added to version 0.20 of scikit-learn in September, 2018. [See the changelog here][1] for a list of all the new features.\n",
    "\n",
    "[1]: https://scikit-learn.org/stable/whats_new.html#version-0-20-0\n",
    "[2]: https://online.dunderdata.com/courses/master-data-analysis-with-python-volume-1-foundations-of-data-exploration\n",
    "[3]: https://twitter.com/tedpetrou"
   ]
  },
  {
   "cell_type": "markdown",
   "metadata": {},
   "source": [
    "## 1. The Scikit-Learn Estimator\n",
    "The scikit-learn library has one primary type of object to do machine learning - the **estimator**.\n",
    "\n",
    "All estimators:\n",
    "* Learn from data\n",
    "* Are python types\n",
    "* Written in CamelCase\n",
    "* Use the three-step process: import, instantiate, fit\n",
    "\n",
    "Types of estimators:\n",
    "The following are common types of estimators. [Visit the glossary][1] to see more types.\n",
    "* Regressors - Supervised learning with continuous target\n",
    "* Classifiers - Supervised learning with categorical target\n",
    "* Clusterers - Unsupervised learning\n",
    "* Transformers - Transform the input/output data\n",
    "* Meta-estimators - Learn from other estimators\n",
    "\n",
    "### Helper Functions\n",
    "Nearly every object in scikit-learn is either an estimator or **helper function**. The helper functions perform a single task and written in snake_case.\n",
    "\n",
    "### Finding estimators in the scikit-learn API\n",
    "The scikit-learn package is divided neatly into about 35 modules. Most modules contain several estimators. It can be valuable to take a look at the entire scikit-learn API to help learn which module an estimator is located in. Note that the estimators (CamelCase) are listed first in the modules followed by the helper functions. We display the API in the notebook below.\n",
    "\n",
    "[1]: https://scikit-learn.org/stable/glossary.html#class-apis-and-estimator-types"
   ]
  },
  {
   "cell_type": "code",
   "execution_count": null,
   "metadata": {},
   "outputs": [],
   "source": [
    "from IPython.display import IFrame\n",
    "IFrame('https://scikit-learn.org/stable/modules/classes.html', 800, 600)"
   ]
  },
  {
   "cell_type": "markdown",
   "metadata": {},
   "source": [
    "## Common Estimators and Helper Functions\n",
    "\n",
    "The complete API above is huge with many estimators and helper functions needed only for very specific circumstances.\n",
    "\n",
    "### House - Room - Object\n",
    "I like to analogize scikit-learn to a house, where the modules are the rooms, and the estimators and helper functions are the objects in the room. The following house consolidates the most common estimators and helper functions into one diagram.\n",
    "\n",
    "![](images/scikit_house.png)"
   ]
  },
  {
   "cell_type": "markdown",
   "metadata": {},
   "source": [
    "## The Housing Dataset\n",
    "We will be using the housing dataset from the [\"Advanced Regression Techniques\" Kaggle competition][1] for the entire tutorial. The full training dataset contains 80 explanatory variables along with the sale price target variable on 1460 houses from the city of Ames, Iowa for houses sold from 2006 to 2010. We will begin by reading in the housing_sample dataset which contains a small subset of the columns.\n",
    "\n",
    "[1]: https://www.kaggle.com/c/house-prices-advanced-regression-techniques"
   ]
  },
  {
   "cell_type": "code",
   "execution_count": 1,
   "metadata": {},
   "outputs": [
    {
     "data": {
      "text/html": [
       "<div>\n",
       "<style scoped>\n",
       "    .dataframe tbody tr th:only-of-type {\n",
       "        vertical-align: middle;\n",
       "    }\n",
       "\n",
       "    .dataframe tbody tr th {\n",
       "        vertical-align: top;\n",
       "    }\n",
       "\n",
       "    .dataframe thead th {\n",
       "        text-align: right;\n",
       "    }\n",
       "</style>\n",
       "<table border=\"1\" class=\"dataframe\">\n",
       "  <thead>\n",
       "    <tr style=\"text-align: right;\">\n",
       "      <th></th>\n",
       "      <th>Neighborhood</th>\n",
       "      <th>Exterior1st</th>\n",
       "      <th>YearBuilt</th>\n",
       "      <th>LotFrontage</th>\n",
       "      <th>GrLivArea</th>\n",
       "      <th>GarageArea</th>\n",
       "      <th>SalePrice</th>\n",
       "    </tr>\n",
       "  </thead>\n",
       "  <tbody>\n",
       "    <tr>\n",
       "      <th>0</th>\n",
       "      <td>CollgCr</td>\n",
       "      <td>VinylSd</td>\n",
       "      <td>2003</td>\n",
       "      <td>65.0</td>\n",
       "      <td>1710</td>\n",
       "      <td>548</td>\n",
       "      <td>208500</td>\n",
       "    </tr>\n",
       "    <tr>\n",
       "      <th>1</th>\n",
       "      <td>Other</td>\n",
       "      <td>Other</td>\n",
       "      <td>1976</td>\n",
       "      <td>80.0</td>\n",
       "      <td>1262</td>\n",
       "      <td>460</td>\n",
       "      <td>181500</td>\n",
       "    </tr>\n",
       "    <tr>\n",
       "      <th>2</th>\n",
       "      <td>CollgCr</td>\n",
       "      <td>VinylSd</td>\n",
       "      <td>2001</td>\n",
       "      <td>68.0</td>\n",
       "      <td>1786</td>\n",
       "      <td>608</td>\n",
       "      <td>223500</td>\n",
       "    </tr>\n",
       "    <tr>\n",
       "      <th>3</th>\n",
       "      <td>Other</td>\n",
       "      <td>Other</td>\n",
       "      <td>1915</td>\n",
       "      <td>60.0</td>\n",
       "      <td>1717</td>\n",
       "      <td>642</td>\n",
       "      <td>140000</td>\n",
       "    </tr>\n",
       "    <tr>\n",
       "      <th>4</th>\n",
       "      <td>Other</td>\n",
       "      <td>VinylSd</td>\n",
       "      <td>2000</td>\n",
       "      <td>84.0</td>\n",
       "      <td>2198</td>\n",
       "      <td>836</td>\n",
       "      <td>250000</td>\n",
       "    </tr>\n",
       "  </tbody>\n",
       "</table>\n",
       "</div>"
      ],
      "text/plain": [
       "  Neighborhood Exterior1st  YearBuilt  LotFrontage  GrLivArea  GarageArea  \\\n",
       "0      CollgCr     VinylSd       2003         65.0       1710         548   \n",
       "1        Other       Other       1976         80.0       1262         460   \n",
       "2      CollgCr     VinylSd       2001         68.0       1786         608   \n",
       "3        Other       Other       1915         60.0       1717         642   \n",
       "4        Other     VinylSd       2000         84.0       2198         836   \n",
       "\n",
       "   SalePrice  \n",
       "0     208500  \n",
       "1     181500  \n",
       "2     223500  \n",
       "3     140000  \n",
       "4     250000  "
      ]
     },
     "execution_count": 1,
     "metadata": {},
     "output_type": "execute_result"
    }
   ],
   "source": [
    "import pandas as pd\n",
    "hs = pd.read_csv('data/housing_sample.csv')\n",
    "hs.head()"
   ]
  },
  {
   "cell_type": "code",
   "execution_count": 9,
   "metadata": {},
   "outputs": [
    {
     "data": {
      "text/plain": [
       "Index(['Neighborhood', 'Exterior1st', 'YearBuilt', 'LotFrontage', 'GrLivArea',\n",
       "       'GarageArea', 'SalePrice'],\n",
       "      dtype='object')"
      ]
     },
     "execution_count": 9,
     "metadata": {},
     "output_type": "execute_result"
    }
   ],
   "source": [
    "hs.columns"
   ]
  },
  {
   "cell_type": "code",
   "execution_count": 3,
   "metadata": {},
   "outputs": [
    {
     "data": {
      "text/plain": [
       "Other      863\n",
       "NAmes      224\n",
       "CollgCr    148\n",
       "OldTown    112\n",
       "Edwards     99\n",
       "Name: Neighborhood, dtype: int64"
      ]
     },
     "execution_count": 3,
     "metadata": {},
     "output_type": "execute_result"
    }
   ],
   "source": [
    "hs['Neighborhood'].value_counts()"
   ]
  },
  {
   "cell_type": "markdown",
   "metadata": {},
   "source": [
    "Get the shape, data types, and number of missing values:"
   ]
  },
  {
   "cell_type": "code",
   "execution_count": 4,
   "metadata": {
    "scrolled": true
   },
   "outputs": [
    {
     "data": {
      "text/plain": [
       "(1460, 7)"
      ]
     },
     "execution_count": 4,
     "metadata": {},
     "output_type": "execute_result"
    }
   ],
   "source": [
    "hs.shape"
   ]
  },
  {
   "cell_type": "code",
   "execution_count": 5,
   "metadata": {},
   "outputs": [
    {
     "data": {
      "text/plain": [
       "Neighborhood     object\n",
       "Exterior1st      object\n",
       "YearBuilt         int64\n",
       "LotFrontage     float64\n",
       "GrLivArea         int64\n",
       "GarageArea        int64\n",
       "SalePrice         int64\n",
       "dtype: object"
      ]
     },
     "execution_count": 5,
     "metadata": {},
     "output_type": "execute_result"
    }
   ],
   "source": [
    "hs.dtypes"
   ]
  },
  {
   "cell_type": "code",
   "execution_count": 6,
   "metadata": {},
   "outputs": [
    {
     "data": {
      "text/plain": [
       "Neighborhood     14\n",
       "Exterior1st      43\n",
       "YearBuilt         0\n",
       "LotFrontage     259\n",
       "GrLivArea         0\n",
       "GarageArea        0\n",
       "SalePrice         0\n",
       "dtype: int64"
      ]
     },
     "execution_count": 6,
     "metadata": {},
     "output_type": "execute_result"
    }
   ],
   "source": [
    "hs.isna().sum()"
   ]
  },
  {
   "cell_type": "markdown",
   "metadata": {},
   "source": [
    "## Prepare Data - scikit-learn gotchas\n",
    "\n",
    "Before we can learn from the data, we need to prepare it so that it works with scikit-learn estimators. \n",
    "\n",
    "* Assign input data to `X` and output to `y` - convention used throughout scikit-learn documentation\n",
    "* Input data must be two-dimensional\n",
    "* Input data must be numeric (no strings)\n",
    "* Input and output data cannot contain missing values\n",
    "\n",
    "Some transformers can handle data that is non-numeric or contains missing values but all the machine learning estimators (regressors, classifiers, and clusterers) cannot.\n",
    "\n",
    "### Model sale price with ground living area\n",
    "\n",
    "Let's use the ground living area to model the sale price of the house and extract the data into numpy arrays. It is possible to keep the data in a pandas DataFrames/Series but scikit-learn has historically been designed to work with numpy arrays. Note that we use the `pop` method to completely remove the `SalePrice` column from our DataFrame."
   ]
  },
  {
   "cell_type": "code",
   "execution_count": null,
   "metadata": {},
   "outputs": [],
   "source": [
    "X = hs[['GrLivArea']].values\n",
    "y = hs.pop('SalePrice').values"
   ]
  },
  {
   "cell_type": "markdown",
   "metadata": {},
   "source": [
    "View the first 5 input and output values. Notice that X is two dimensional."
   ]
  },
  {
   "cell_type": "code",
   "execution_count": null,
   "metadata": {},
   "outputs": [],
   "source": [
    "X[:5]"
   ]
  },
  {
   "cell_type": "code",
   "execution_count": null,
   "metadata": {},
   "outputs": [],
   "source": [
    "y[:5]"
   ]
  },
  {
   "cell_type": "markdown",
   "metadata": {},
   "source": [
    "## Import, Instantiate, Fit — The three-step process for each estimator\n",
    "The scikit-learn API is consistent for all estimators and uses the same three-step process to learn from the data.\n",
    "\n",
    "* **Import** the estimator from its module\n",
    "* **Instantiate** the estimator, possibly changing the (hyper)parameters\n",
    "* **Fit** the estimator to the data\n",
    "\n",
    "## Linear regression with the three-step process\n",
    "\n",
    "For this problem, we need to use an estimator that is a [Regressor][1] - one that models target variables with continuous values such as sale price. The word 'Regressor' is often contained within the names of these estimators. Specifically, we will do linear regression by importing the `LinearRegression` estimator from the `linear_model` module.\n",
    "\n",
    "### Step 1: Import\n",
    "Open up the scikit-learn house (package), go to the `linear_model` room (module) and select the `LinearRegression` object (estimator) to import.\n",
    "\n",
    "[1]: https://scikit-learn.org/stable/glossary.html#term-regressors"
   ]
  },
  {
   "cell_type": "code",
   "execution_count": null,
   "metadata": {},
   "outputs": [],
   "source": [
    "from sklearn.linear_model import LinearRegression"
   ]
  },
  {
   "cell_type": "markdown",
   "metadata": {},
   "source": [
    "### Step 2: Instantiate\n",
    "The `LinearRegression` object above is merely a blueprint. We must instantiate it (construct an instance of the class) in order to have an object that can learn from the data. I sometimes refer to this as \"constructing the machine learning vehicle\" from the blueprint. I typically use the first letters of each word of the estimator class name as the variable name for the instance."
   ]
  },
  {
   "cell_type": "code",
   "execution_count": null,
   "metadata": {},
   "outputs": [],
   "source": [
    "lr = LinearRegression()"
   ]
  },
  {
   "cell_type": "markdown",
   "metadata": {},
   "source": [
    "### Step 3: Fit\n",
    "All estimators learn from the data via the `fit` method. In this particular case, the estimator learns the parameters of the linear regression model (the slope and intercept) that result in the minimum squared error."
   ]
  },
  {
   "cell_type": "code",
   "execution_count": null,
   "metadata": {},
   "outputs": [],
   "source": [
    "lr.fit(X, y)"
   ]
  },
  {
   "cell_type": "markdown",
   "metadata": {},
   "source": [
    "## Estimated Parameters - end in a single underscore\n",
    "scikit-learn stores parameters learned from the data as public attributes that end in a single underscore. For linear regression, it stores the intercept and coefficient (slope) as separate attributes."
   ]
  },
  {
   "cell_type": "code",
   "execution_count": null,
   "metadata": {},
   "outputs": [],
   "source": [
    "lr.intercept_"
   ]
  },
  {
   "cell_type": "code",
   "execution_count": null,
   "metadata": {},
   "outputs": [],
   "source": [
    "lr.coef_"
   ]
  },
  {
   "cell_type": "markdown",
   "metadata": {},
   "source": [
    "## Make predictions\n",
    "Once the model is trained, you will be able to use the `predict` method to make predictions. Pass it an input array with the same type of data used during training. Here, we predict using our original training data."
   ]
  },
  {
   "cell_type": "code",
   "execution_count": null,
   "metadata": {},
   "outputs": [],
   "source": [
    "lr.predict(X)"
   ]
  },
  {
   "cell_type": "markdown",
   "metadata": {},
   "source": [
    "## Summary of commands"
   ]
  },
  {
   "cell_type": "code",
   "execution_count": null,
   "metadata": {},
   "outputs": [],
   "source": [
    "hs = pd.read_csv('data/housing_sample.csv')\n",
    "X = hs[['GrLivArea']].values\n",
    "y = hs.pop('SalePrice').values\n",
    "\n",
    "from sklearn.linear_model import LinearRegression  # step 1 - import\n",
    "lr = LinearRegression()                            # step 2 - instantiate\n",
    "lr.fit(X, y)                                       # step 3 - fit\n",
    "\n",
    "lr.predict(X)"
   ]
  },
  {
   "cell_type": "markdown",
   "metadata": {},
   "source": [
    "## Exercise\n",
    "All other regression estimators use the same three-step process to learn from the data. Complete the three-step process for the following models:\n",
    "* K-nearest neighbors\n",
    "* Decision trees\n",
    "* Random Forests\n",
    "* Gradient Boosted trees\n",
    "\n",
    "The model learned can drastically change by setting the hyperparameters in step 2 during instantiation. We aren't concerned with hyperparameters at this point. Also, You may choose input data from other columns that have no missing values."
   ]
  },
  {
   "cell_type": "code",
   "execution_count": null,
   "metadata": {},
   "outputs": [],
   "source": []
  },
  {
   "cell_type": "code",
   "execution_count": null,
   "metadata": {},
   "outputs": [],
   "source": []
  },
  {
   "cell_type": "code",
   "execution_count": null,
   "metadata": {},
   "outputs": [],
   "source": []
  },
  {
   "cell_type": "code",
   "execution_count": null,
   "metadata": {},
   "outputs": [],
   "source": []
  },
  {
   "cell_type": "code",
   "execution_count": null,
   "metadata": {},
   "outputs": [],
   "source": []
  }
 ],
 "metadata": {
  "kernelspec": {
   "display_name": "Python 3",
   "language": "python",
   "name": "python3"
  },
  "language_info": {
   "codemirror_mode": {
    "name": "ipython",
    "version": 3
   },
   "file_extension": ".py",
   "mimetype": "text/x-python",
   "name": "python",
   "nbconvert_exporter": "python",
   "pygments_lexer": "ipython3",
   "version": "3.7.1"
  }
 },
 "nbformat": 4,
 "nbformat_minor": 2
}
